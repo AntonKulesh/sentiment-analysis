{
 "cells": [
  {
   "cell_type": "markdown",
   "metadata": {},
   "source": [
    "# Yelp Dataset Challenge: Review Rating Prediction\n",
    "[Link](https://inclass.kaggle.com/c/sentiment-analysis2) to competition page\n",
    "# Part I. Bag of Words\n",
    "**Approaches**\n",
    "* TF-IDF with n-grams\n",
    "* TF-IDF with n-chars\n",
    "* Addition of lemmatization\n",
    "* Mark negation"
   ]
  },
  {
   "cell_type": "code",
   "execution_count": 1,
   "metadata": {
    "collapsed": false
   },
   "outputs": [],
   "source": [
    "%matplotlib inline\n",
    "import matplotlib.pyplot as plt\n",
    "\n",
    "import csv\n",
    "import pickle\n",
    "import pandas as pd\n",
    "import numpy as np \n",
    "import itertools\n",
    "import scipy.sparse as sparse\n",
    "from collections import Counter\n",
    "\n",
    "import time\n",
    "import warnings\n",
    "warnings.filterwarnings('ignore') \n",
    "\n",
    "import re\n",
    "import nltk\n",
    "from nltk.sentiment.util import mark_negation\n",
    "from nltk.tokenize import word_tokenize\n",
    "from nltk.stem import WordNetLemmatizer\n",
    "from gensim.utils import lemmatize\n",
    "from nltk.corpus import stopwords\n",
    "from nltk.stem.porter import PorterStemmer\n",
    "stopwords = set(stopwords.words('english'))\n",
    "\n",
    "from sklearn.feature_extraction.text import TfidfVectorizer\n",
    "from sklearn.svm import LinearSVC\n",
    "from sklearn.naive_bayes import BernoulliNB, MultinomialNB\n",
    "from sklearn.linear_model import SGDClassifier, LogisticRegressionCV, LogisticRegression,\\\n",
    "                                 RidgeClassifier, PassiveAggressiveClassifier\n",
    "from sklearn.pipeline import Pipeline\n",
    "from sklearn.model_selection import cross_val_score, train_test_split, GridSearchCV\n",
    "from sklearn.metrics import confusion_matrix"
   ]
  },
  {
   "cell_type": "markdown",
   "metadata": {
    "collapsed": true
   },
   "source": [
    "## Loading data"
   ]
  },
  {
   "cell_type": "code",
   "execution_count": 2,
   "metadata": {
    "collapsed": false
   },
   "outputs": [],
   "source": [
    "path = '/home/data/shad-yelp-sentiment-analysis/'\n",
    "\n",
    "train_file = csv.reader(open(path + 'train.data'), delimiter='\\t')\n",
    "next(train_file)\n",
    "train_set = [x for x in train_file]\n",
    "test_file = csv.reader(open(path + 'test.data'), delimiter='\\t')\n",
    "next(test_file)\n",
    "test_set = [x for x in test_file]\n",
    "train_data, train_label = [line[2] for line in train_set], [line[1] for line in train_set]\n",
    "test_id, test_data = [x[0] for x in test_set], [x[1] for x in test_set]"
   ]
  },
  {
   "cell_type": "code",
   "execution_count": 3,
   "metadata": {
    "collapsed": false
   },
   "outputs": [
    {
     "data": {
      "text/plain": [
       "\"This has been the best restaurant experience (x3) I have had since moving to Scottsdale from NYC. Unfortunately, the next time I come, I will have to sell off my first born-- well future first born.\\\\n\\\\nEverything is right about City Hall. The ambiance, the service, the food. Dear god, the steaks are orgasmic!\\\\n\\\\nI have been in Scottsdale for 10 months, and the food scene here is reminiscent of NY in the 19--- well, no its not reminiscent of any time period of NYC.  \\\\nI applaud many of the up and comers and hope they are able to find their footings, but the way to keep your customers is to provide exemplary service. To date I have only found that type of service here at City Hall.\\\\n\\\\nI don't need a hipster server to take a seat in the booth with my date and I amd start pointing to various menu items- um- you are not eating with me!\\\\nI don't need a server to pull out crayons and start circling menu items on the place mate cuz, I am NOT 5 years old!\\\\n\\\\nAs an adult, I do like having a cocktail at the bar, served by a very professional bartender, having my cocktail brought to the table (and in some cases have the tab transferred). The live music, is on the muzak side, but that kitsch is the only thing that is out of place here. Though, may I say it is fun to sing along in my Wayne Newtown swagger!\\\\n\\\\nVery attentive waitstaff going through the gi-normous offerings of the menu and cautioning to not over order (thanks!) and bringing the extra Atomic Horseraddish to make my face feel like its about to fall off.\\\\n\\\\nThe Porterhouse is to die for, Seafood, amongst-- NO-- the freshest I have had in Scottsdale (yes, even fresher that the Salt Cellar) The desserts, well lets say they are heavenly. Hard to eat the molten cake after gorging myself on a ridculous amount of food, but YUMMMM....\\\\n\\\\nBut it all comes with a price. I have been lucky to have come here with an ex- boyfriend that loves this place. But now that he is gone, I will have to resort to selling my furure first born child on Craigslist to sate my desire to have another porterhouse at City Hall.\""
      ]
     },
     "execution_count": 3,
     "metadata": {},
     "output_type": "execute_result"
    }
   ],
   "source": [
    "test_data[2]"
   ]
  },
  {
   "cell_type": "code",
   "execution_count": 4,
   "metadata": {
    "collapsed": true
   },
   "outputs": [],
   "source": [
    "#\n",
    "train_data = [text.replace('\\\\n', ' ') for text in train_data]\n",
    "test_data = [text.replace('\\\\n', ' ') for text in test_data]"
   ]
  },
  {
   "cell_type": "markdown",
   "metadata": {},
   "source": [
    "## Pickling data\n",
    "Using *pickle* module will conserve objects to then be loaded from disk."
   ]
  },
  {
   "cell_type": "code",
   "execution_count": 5,
   "metadata": {
    "collapsed": true
   },
   "outputs": [],
   "source": [
    "def pickling_data(name, data):\n",
    "    out = open(name + '.pkl', 'wb')\n",
    "    pickle.dump(data, out)\n",
    "    out.close()\n",
    "    \n",
    "def load_data(name):\n",
    "    pkl_file = open(name + '.pkl', 'rb')\n",
    "    data = pickle.load(pkl_file)\n",
    "    pkl_file.close()\n",
    "    return data"
   ]
  },
  {
   "cell_type": "code",
   "execution_count": null,
   "metadata": {
    "collapsed": true
   },
   "outputs": [],
   "source": []
  },
  {
   "cell_type": "markdown",
   "metadata": {},
   "source": [
    "## Data pre-processing"
   ]
  },
  {
   "cell_type": "code",
   "execution_count": 6,
   "metadata": {
    "collapsed": true
   },
   "outputs": [],
   "source": [
    "def create_bow_with_freq(data):\n",
    "    result = Counter()\n",
    "    for s in data:\n",
    "        result.update(s)\n",
    "    return list(result.items())\n",
    "\n",
    "def tokenize_string(string, punc=False, stopword=False):\n",
    "    # Remove punctuation\n",
    "    if punc:\n",
    "        p = re.compile(r'[\\.,&#\\'\\\"\\(\\)-\\?\\!\\$]')\n",
    "        tokenized_str = p.sub(' ', string).split()\n",
    "\n",
    "    else:\n",
    "        tokenized_str = word_tokenize(string)\n",
    "    \n",
    "    # Lowercase\n",
    "    processed_str = [x.lower() for x in tokenized_str]\n",
    "    \n",
    "    # Remove stopwords\n",
    "    if stopword:\n",
    "        processed_str = [x for x in processed_str if x not in stopwords]\n",
    "    \n",
    "    return processed_str \n",
    "\n",
    "def texts_processing(texts, punc=False, stopword=False):\n",
    "    text_tokens = [tokenize_string(text, punc, stopword) for text in texts]\n",
    "    texts = [' '.join(tokens) for tokens in text_tokens]\n",
    "    return texts"
   ]
  },
  {
   "cell_type": "code",
   "execution_count": 7,
   "metadata": {
    "collapsed": false
   },
   "outputs": [
    {
     "data": {
      "text/plain": [
       "'best restaurant experience x since moving scottsdale nyc unfortunately next time come sell first born well future first born everything right city hall ambiance service food dear god steaks orgasmic scottsdale months food scene reminiscent ny well reminiscent time period nyc applaud many comers hope able find footings way keep customers provide exemplary service date found type service city hall need hipster server take seat booth date amd start pointing various menu items um eating need server pull crayons start circling menu items place mate cuz years old adult like cocktail bar served professional bartender cocktail brought table cases tab transferred live music muzak side kitsch thing place though may say fun sing along wayne newtown swagger attentive waitstaff going gi normous offerings menu cautioning order thanks bringing extra atomic horseraddish make face feel like fall porterhouse die seafood amongst freshest scottsdale yes even fresher salt cellar desserts well lets say heavenly hard eat molten cake gorging ridculous amount food yummmm comes price lucky come ex boyfriend loves place gone resort selling furure first born child craigslist sate desire another porterhouse city hall'"
      ]
     },
     "execution_count": 7,
     "metadata": {},
     "output_type": "execute_result"
    }
   ],
   "source": [
    "' '.join(tokenize_string(test_data[2], punc=True, stopword=True))"
   ]
  },
  {
   "cell_type": "code",
   "execution_count": 46,
   "metadata": {
    "collapsed": false
   },
   "outputs": [
    {
     "name": "stdout",
     "output_type": "stream",
     "text": [
      "CPU times: user 22.7 s, sys: 1.19 s, total: 23.9 s\n",
      "Wall time: 23.9 s\n"
     ]
    }
   ],
   "source": [
    "%%time\n",
    "\n",
    "data = texts_processing(train_data + test_data, punc=True, stopword=True)\n",
    "tokens = [text.split() for text in data]\n",
    "freq = create_bow_with_freq(tokens)"
   ]
  },
  {
   "cell_type": "markdown",
   "metadata": {},
   "source": [
    "20 most popular words of our dataset excluding stopwords"
   ]
  },
  {
   "cell_type": "code",
   "execution_count": 47,
   "metadata": {
    "collapsed": false
   },
   "outputs": [
    {
     "data": {
      "text/html": [
       "<div>\n",
       "<table border=\"1\" class=\"dataframe\">\n",
       "  <thead>\n",
       "    <tr style=\"text-align: right;\">\n",
       "      <th></th>\n",
       "      <th>token</th>\n",
       "      <th>count</th>\n",
       "    </tr>\n",
       "  </thead>\n",
       "  <tbody>\n",
       "    <tr>\n",
       "      <th>56679</th>\n",
       "      <td>good</td>\n",
       "      <td>118142</td>\n",
       "    </tr>\n",
       "    <tr>\n",
       "      <th>101044</th>\n",
       "      <td>place</td>\n",
       "      <td>116276</td>\n",
       "    </tr>\n",
       "    <tr>\n",
       "      <th>33738</th>\n",
       "      <td>food</td>\n",
       "      <td>106473</td>\n",
       "    </tr>\n",
       "    <tr>\n",
       "      <th>39374</th>\n",
       "      <td>like</td>\n",
       "      <td>100917</td>\n",
       "    </tr>\n",
       "    <tr>\n",
       "      <th>81474</th>\n",
       "      <td>one</td>\n",
       "      <td>82940</td>\n",
       "    </tr>\n",
       "    <tr>\n",
       "      <th>69624</th>\n",
       "      <td>great</td>\n",
       "      <td>78151</td>\n",
       "    </tr>\n",
       "    <tr>\n",
       "      <th>70577</th>\n",
       "      <td>get</td>\n",
       "      <td>75489</td>\n",
       "    </tr>\n",
       "    <tr>\n",
       "      <th>21142</th>\n",
       "      <td>time</td>\n",
       "      <td>69017</td>\n",
       "    </tr>\n",
       "    <tr>\n",
       "      <th>46283</th>\n",
       "      <td>go</td>\n",
       "      <td>66338</td>\n",
       "    </tr>\n",
       "    <tr>\n",
       "      <th>50547</th>\n",
       "      <td>really</td>\n",
       "      <td>65732</td>\n",
       "    </tr>\n",
       "    <tr>\n",
       "      <th>13624</th>\n",
       "      <td>would</td>\n",
       "      <td>63556</td>\n",
       "    </tr>\n",
       "    <tr>\n",
       "      <th>67908</th>\n",
       "      <td>back</td>\n",
       "      <td>57669</td>\n",
       "    </tr>\n",
       "    <tr>\n",
       "      <th>40155</th>\n",
       "      <td>service</td>\n",
       "      <td>53022</td>\n",
       "    </tr>\n",
       "    <tr>\n",
       "      <th>1010</th>\n",
       "      <td>also</td>\n",
       "      <td>49544</td>\n",
       "    </tr>\n",
       "    <tr>\n",
       "      <th>100698</th>\n",
       "      <td>little</td>\n",
       "      <td>42939</td>\n",
       "    </tr>\n",
       "    <tr>\n",
       "      <th>101782</th>\n",
       "      <td>well</td>\n",
       "      <td>42430</td>\n",
       "    </tr>\n",
       "    <tr>\n",
       "      <th>4767</th>\n",
       "      <td>even</td>\n",
       "      <td>42378</td>\n",
       "    </tr>\n",
       "    <tr>\n",
       "      <th>16103</th>\n",
       "      <td>nice</td>\n",
       "      <td>40015</td>\n",
       "    </tr>\n",
       "    <tr>\n",
       "      <th>71509</th>\n",
       "      <td>us</td>\n",
       "      <td>39745</td>\n",
       "    </tr>\n",
       "    <tr>\n",
       "      <th>97525</th>\n",
       "      <td>got</td>\n",
       "      <td>39054</td>\n",
       "    </tr>\n",
       "  </tbody>\n",
       "</table>\n",
       "</div>"
      ],
      "text/plain": [
       "          token   count\n",
       "56679      good  118142\n",
       "101044    place  116276\n",
       "33738      food  106473\n",
       "39374      like  100917\n",
       "81474       one   82940\n",
       "69624     great   78151\n",
       "70577       get   75489\n",
       "21142      time   69017\n",
       "46283        go   66338\n",
       "50547    really   65732\n",
       "13624     would   63556\n",
       "67908      back   57669\n",
       "40155   service   53022\n",
       "1010       also   49544\n",
       "100698   little   42939\n",
       "101782     well   42430\n",
       "4767       even   42378\n",
       "16103      nice   40015\n",
       "71509        us   39745\n",
       "97525       got   39054"
      ]
     },
     "execution_count": 47,
     "metadata": {},
     "output_type": "execute_result"
    }
   ],
   "source": [
    "token_counts = pd.DataFrame(freq, columns=['token', 'count'])\n",
    "sorted_tokens = token_counts.sort('count', ascending=False)\n",
    "sorted_tokens.head(20)"
   ]
  },
  {
   "cell_type": "markdown",
   "metadata": {},
   "source": [
    "We'll show how many words a certain frequency occurs in data"
   ]
  },
  {
   "cell_type": "code",
   "execution_count": 48,
   "metadata": {
    "collapsed": false
   },
   "outputs": [
    {
     "data": {
      "image/png": "[encoded data removed]",
      "text/plain": [
       "<matplotlib.figure.Figure at 0x7fb68d1c57b8>"
      ]
     },
     "metadata": {},
     "output_type": "display_data"
    }
   ],
   "source": [
    "plt.figure(figsize=(10,5))\n",
    "token_counts['count'].value_counts()[:30].plot(kind='bar')\n",
    "plt.show()"
   ]
  },
  {
   "cell_type": "markdown",
   "metadata": {},
   "source": [
    "## Baseline classification model\n",
    "Because the matrix object-feature will be very sparse, you'll use the linear model -- logistic regression with l1-regularization."
   ]
  },
  {
   "cell_type": "code",
   "execution_count": 12,
   "metadata": {
    "collapsed": false
   },
   "outputs": [],
   "source": [
    "#clf = SGDClassifier(loss='huber', n_jobs=12, n_iter=50)"
   ]
  },
  {
   "cell_type": "code",
   "execution_count": 8,
   "metadata": {
    "collapsed": false
   },
   "outputs": [],
   "source": [
    "clf = LogisticRegression(n_jobs=12, warm_start=True, penalty='l1')"
   ]
  },
  {
   "cell_type": "markdown",
   "metadata": {},
   "source": [
    "## Confusion matrix"
   ]
  },
  {
   "cell_type": "markdown",
   "metadata": {},
   "source": [
    "To watch any more/less model classes mistaken will build сonfusion matrix."
   ]
  },
  {
   "cell_type": "code",
   "execution_count": 10,
   "metadata": {
    "collapsed": true
   },
   "outputs": [],
   "source": [
    "def plot_confusion_matrix(cm, classes,\n",
    "                          normalize=False,\n",
    "                          title='Confusion matrix',\n",
    "                          cmap=plt.cm.Blues):\n",
    "    \"\"\"\n",
    "    This function prints and plots the confusion matrix.\n",
    "    Normalization can be applied by setting `normalize=True`.\n",
    "    \"\"\"\n",
    "    if normalize:\n",
    "        cm = cm / cm.sum(axis=1)[:, np.newaxis]\n",
    "    \n",
    "    plt.figure(figsize=(7,7))\n",
    "    plt.imshow(cm, interpolation='nearest', cmap=cmap)\n",
    "    plt.title(title)\n",
    "    plt.colorbar()\n",
    "    tick_marks = np.arange(len(classes))\n",
    "    plt.xticks(tick_marks, classes, rotation=45)\n",
    "    plt.yticks(tick_marks, classes)\n",
    "\n",
    "    thresh = cm.max() / 2.\n",
    "    for i, j in itertools.product(range(cm.shape[0]), range(cm.shape[1])):\n",
    "        plt.text(j, i, \"%.2f\" % cm[i, j],\n",
    "                 horizontalalignment=\"center\",\n",
    "                 color=\"white\" if cm[i, j] > thresh else \"black\")\n",
    "\n",
    "    plt.tight_layout()\n",
    "    plt.ylabel('True label')\n",
    "    plt.xlabel('Predicted label')\n",
    "    \n",
    "    \n",
    "def cm_show(clf, X, y, title, classes=['1','2','3','4','5']):\n",
    "    \n",
    "    x_train, x_test, y_train, y_test = train_test_split(X, y, random_state=0)\n",
    "    y_pred = clf.fit(x_train, y_train).predict(x_test)\n",
    "\n",
    "    cnf_matrix = confusion_matrix(y_test, y_pred)\n",
    "    np.set_printoptions(precision=2)\n",
    "\n",
    "    #plot_confusion_matrix(cnf_matrix, classes=classes, normalize=False, \\\n",
    "    #                      title=title)\n",
    "\n",
    "    plot_confusion_matrix(cnf_matrix, classes=classes, normalize=True,\n",
    "                          title=title)\n",
    "    plt.show()"
   ]
  },
  {
   "cell_type": "markdown",
   "metadata": {},
   "source": [
    "## TF-IDF + N-grams\n",
    "### Without Stopwords and punctuation"
   ]
  },
  {
   "cell_type": "code",
   "execution_count": 10,
   "metadata": {
    "collapsed": false
   },
   "outputs": [
    {
     "name": "stdout",
     "output_type": "stream",
     "text": [
      "CPU times: user 17 s, sys: 1.04 s, total: 18.1 s\n",
      "Wall time: 18.1 s\n"
     ]
    }
   ],
   "source": [
    "%%time \n",
    "\n",
    "train = texts_processing(train_data, punc=True, stopword=True)\n",
    "test = texts_processing(test_data, punc=True, stopword=True)"
   ]
  },
  {
   "cell_type": "markdown",
   "metadata": {},
   "source": [
    "**Pipeline**"
   ]
  },
  {
   "cell_type": "code",
   "execution_count": 11,
   "metadata": {
    "collapsed": false
   },
   "outputs": [],
   "source": [
    "text_clf = Pipeline([('vect', TfidfVectorizer(min_df=5, ngram_range=(1,3), token_pattern=r'\\w{1,}')),\\\n",
    "                     ('clf', clf)])\n",
    "\n",
    "parameters = {'vect__max_features': [15000, 30000, 60000]}\n",
    "\n",
    "gs_clf = GridSearchCV(text_clf, parameters, scoring='accuracy', n_jobs=12, verbose=10)"
   ]
  },
  {
   "cell_type": "code",
   "execution_count": 12,
   "metadata": {
    "collapsed": true
   },
   "outputs": [
    {
     "name": "stdout",
     "output_type": "stream",
     "text": [
      "Fitting 3 folds for each of 3 candidates, totalling 9 fits\n",
      "[CV] vect__max_features=15000 ........................................\n",
      "[CV] vect__max_features=15000 ........................................\n",
      "[CV] vect__max_features=15000 ........................................\n",
      "[CV] vect__max_features=30000 ........................................\n",
      "[CV] vect__max_features=30000 ........................................\n",
      "[CV] vect__max_features=30000 ........................................\n",
      "[CV] vect__max_features=60000 ........................................\n",
      "[CV] vect__max_features=60000 ........................................\n",
      "[CV] vect__max_features=60000 ........................................\n",
      "[CV] ......... vect__max_features=15000, score=0.577597, total= 2.5min\n",
      "[CV] ......... vect__max_features=15000, score=0.575846, total= 2.5min\n"
     ]
    },
    {
     "name": "stderr",
     "output_type": "stream",
     "text": [
      "[Parallel(n_jobs=12)]: Done   2 out of   9 | elapsed:  3.0min remaining: 10.5min\n"
     ]
    },
    {
     "name": "stdout",
     "output_type": "stream",
     "text": [
      "[CV] ......... vect__max_features=15000, score=0.582534, total= 2.5min\n",
      "[CV] ......... vect__max_features=30000, score=0.576632, total= 2.5min\n"
     ]
    },
    {
     "name": "stderr",
     "output_type": "stream",
     "text": [
      "[Parallel(n_jobs=12)]: Done   3 out of   9 | elapsed:  3.0min remaining:  6.0min\n",
      "[Parallel(n_jobs=12)]: Done   4 out of   9 | elapsed:  3.0min remaining:  3.8min\n"
     ]
    },
    {
     "name": "stdout",
     "output_type": "stream",
     "text": [
      "[CV] ......... vect__max_features=30000, score=0.576256, total= 2.5min\n"
     ]
    },
    {
     "name": "stderr",
     "output_type": "stream",
     "text": [
      "[Parallel(n_jobs=12)]: Done   5 out of   9 | elapsed:  3.0min remaining:  2.4min\n"
     ]
    },
    {
     "name": "stdout",
     "output_type": "stream",
     "text": [
      "[CV] ......... vect__max_features=30000, score=0.582153, total= 2.5min\n"
     ]
    },
    {
     "name": "stderr",
     "output_type": "stream",
     "text": [
      "[Parallel(n_jobs=12)]: Done   6 out of   9 | elapsed:  3.0min remaining:  1.5min\n"
     ]
    },
    {
     "name": "stdout",
     "output_type": "stream",
     "text": [
      "[CV] ......... vect__max_features=60000, score=0.581276, total= 2.5min\n"
     ]
    },
    {
     "name": "stderr",
     "output_type": "stream",
     "text": [
      "[Parallel(n_jobs=12)]: Done   7 out of   9 | elapsed:  3.1min remaining:   52.7s\n"
     ]
    },
    {
     "name": "stdout",
     "output_type": "stream",
     "text": [
      "[CV] ......... vect__max_features=60000, score=0.576022, total= 2.5min\n",
      "[CV] ......... vect__max_features=60000, score=0.576164, total= 2.6min\n"
     ]
    },
    {
     "name": "stderr",
     "output_type": "stream",
     "text": [
      "[Parallel(n_jobs=12)]: Done   9 out of   9 | elapsed:  3.1min remaining:    0.0s\n",
      "[Parallel(n_jobs=12)]: Done   9 out of   9 | elapsed:  3.1min finished\n"
     ]
    },
    {
     "name": "stdout",
     "output_type": "stream",
     "text": [
      "CPU times: user 3min, sys: 5.44 s, total: 3min 6s\n",
      "Wall time: 6min 10s\n"
     ]
    },
    {
     "data": {
      "text/plain": [
       "GridSearchCV(cv=None, error_score='raise',\n",
       "       estimator=Pipeline(steps=[('vect', TfidfVectorizer(analyzer='word', binary=False, decode_error='strict',\n",
       "        dtype=<class 'numpy.int64'>, encoding='utf-8', input='content',\n",
       "        lowercase=True, max_df=1.0, max_features=None, min_df=5,\n",
       "        ngram_range=(1, 3), norm='l2', preprocessor=None, smooth_idf=True,\n",
       "  ...lty='l1', random_state=None, solver='liblinear', tol=0.0001,\n",
       "          verbose=0, warm_start=True))]),\n",
       "       fit_params={}, iid=True, n_jobs=12,\n",
       "       param_grid={'vect__max_features': [15000, 30000, 60000]},\n",
       "       pre_dispatch='2*n_jobs', refit=True, return_train_score=True,\n",
       "       scoring='accuracy', verbose=10)"
      ]
     },
     "execution_count": 12,
     "metadata": {},
     "output_type": "execute_result"
    }
   ],
   "source": [
    "%time gs_clf.fit(train, train_label)"
   ]
  },
  {
   "cell_type": "code",
   "execution_count": 13,
   "metadata": {
    "collapsed": false
   },
   "outputs": [
    {
     "name": "stdout",
     "output_type": "stream",
     "text": [
      "Best score: 0.578658917148 \n",
      "Parameters: {'vect__max_features': 15000}\n"
     ]
    }
   ],
   "source": [
    "print(\"Best score: %s \\nParameters: %s\" % (gs_clf.best_score_, gs_clf.best_params_))"
   ]
  },
  {
   "cell_type": "markdown",
   "metadata": {},
   "source": [
    "**All text**"
   ]
  },
  {
   "cell_type": "code",
   "execution_count": 17,
   "metadata": {
    "collapsed": false
   },
   "outputs": [
    {
     "name": "stdout",
     "output_type": "stream",
     "text": [
      "CPU times: user 3min 7s, sys: 4.79 s, total: 3min 12s\n",
      "Wall time: 3min 12s\n"
     ]
    },
    {
     "data": {
      "text/plain": [
       "TfidfVectorizer(analyzer='word', binary=False, decode_error='strict',\n",
       "        dtype=<class 'numpy.int64'>, encoding='utf-8', input='content',\n",
       "        lowercase=True, max_df=1.0, max_features=15000, min_df=5,\n",
       "        ngram_range=(1, 3), norm='l2', preprocessor=None, smooth_idf=True,\n",
       "        stop_words=None, strip_accents=None, sublinear_tf=False,\n",
       "        token_pattern='\\\\w{1,}', tokenizer=None, use_idf=True,\n",
       "        vocabulary=None)"
      ]
     },
     "execution_count": 17,
     "metadata": {},
     "output_type": "execute_result"
    }
   ],
   "source": [
    "tfidf = TfidfVectorizer(min_df=5, ngram_range=(1,3), token_pattern=r'\\w{1,}', max_features=15000)\n",
    "%time tfidf.fit(train + test)"
   ]
  },
  {
   "cell_type": "code",
   "execution_count": 18,
   "metadata": {
    "collapsed": false
   },
   "outputs": [
    {
     "name": "stdout",
     "output_type": "stream",
     "text": [
      "CPU times: user 42.2 s, sys: 138 ms, total: 42.3 s\n",
      "Wall time: 42.3 s\n"
     ]
    }
   ],
   "source": [
    "%time X_train = tfidf.transform(train)"
   ]
  },
  {
   "cell_type": "code",
   "execution_count": 20,
   "metadata": {
    "collapsed": false
   },
   "outputs": [
    {
     "name": "stdout",
     "output_type": "stream",
     "text": [
      "Mean score: 0.580589729296 \n",
      "Std: 0.00101886651818\n"
     ]
    }
   ],
   "source": [
    "scores = cross_val_score(clf, X_train, train_label, cv=5, scoring='accuracy', n_jobs=12)\n",
    "print(\"Mean score: %s \\nStd: %s\" % (np.mean(scores), np.std(scores)))"
   ]
  },
  {
   "cell_type": "markdown",
   "metadata": {},
   "source": [
    "**Confusion matrix**"
   ]
  },
  {
   "cell_type": "code",
   "execution_count": 29,
   "metadata": {
    "collapsed": false
   },
   "outputs": [
    {
     "data": {
      "image/png": "[encoded data removed]",
      "text/plain": [
       "<matplotlib.figure.Figure at 0x7f4e6acd69e8>"
      ]
     },
     "metadata": {},
     "output_type": "display_data"
    }
   ],
   "source": [
    "cm_show(clf, X_train, train_label, title='TF-IDF without stopwords and puntuation')"
   ]
  },
  {
   "cell_type": "markdown",
   "metadata": {},
   "source": [
    "### With Stopwords "
   ]
  },
  {
   "cell_type": "code",
   "execution_count": 31,
   "metadata": {
    "collapsed": false
   },
   "outputs": [],
   "source": [
    "text_clf = Pipeline([('vect', TfidfVectorizer(min_df=5, ngram_range=(1,3), token_pattern=r'\\w{1,}')),\n",
    "                     ('clf', clf)])\n",
    "\n",
    "parameters = {'vect__max_features': [15000, 30000, 60000]}\n",
    "\n",
    "gs_clf = GridSearchCV(text_clf, parameters, scoring='accuracy', n_jobs=12, verbose=10)"
   ]
  },
  {
   "cell_type": "markdown",
   "metadata": {},
   "source": [
    "**Pipeline**"
   ]
  },
  {
   "cell_type": "code",
   "execution_count": 32,
   "metadata": {
    "collapsed": true
   },
   "outputs": [
    {
     "name": "stdout",
     "output_type": "stream",
     "text": [
      "Fitting 3 folds for each of 3 candidates, totalling 9 fits\n",
      "[CV] vect__max_features=15000 ........................................\n",
      "[CV] vect__max_features=15000 ........................................\n",
      "[CV] vect__max_features=15000 ........................................\n",
      "[CV] vect__max_features=30000 ........................................\n",
      "[CV] vect__max_features=30000 ........................................\n",
      "[CV] vect__max_features=30000 ........................................\n",
      "[CV] vect__max_features=60000 ........................................\n",
      "[CV] vect__max_features=60000 ........................................\n",
      "[CV] vect__max_features=60000 ........................................\n",
      "[CV] ......... vect__max_features=30000, score=0.603341, total= 3.8min\n",
      "[CV] ......... vect__max_features=15000, score=0.604652, total= 3.8min\n",
      "[CV] ......... vect__max_features=15000, score=0.601586, total= 3.9min\n"
     ]
    },
    {
     "name": "stderr",
     "output_type": "stream",
     "text": [
      "[Parallel(n_jobs=12)]: Done   2 out of   9 | elapsed:  5.0min remaining: 17.4min\n",
      "[Parallel(n_jobs=12)]: Done   3 out of   9 | elapsed:  5.0min remaining:  9.9min\n"
     ]
    },
    {
     "name": "stdout",
     "output_type": "stream",
     "text": [
      "[CV] ......... vect__max_features=60000, score=0.600860, total= 3.9min\n",
      "[CV] ......... vect__max_features=15000, score=0.600246, total= 3.9min\n"
     ]
    },
    {
     "name": "stderr",
     "output_type": "stream",
     "text": [
      "[Parallel(n_jobs=12)]: Done   4 out of   9 | elapsed:  5.0min remaining:  6.3min\n",
      "[Parallel(n_jobs=12)]: Done   5 out of   9 | elapsed:  5.0min remaining:  4.0min\n"
     ]
    },
    {
     "name": "stdout",
     "output_type": "stream",
     "text": [
      "[CV] ......... vect__max_features=60000, score=0.605998, total= 3.9min\n"
     ]
    },
    {
     "name": "stderr",
     "output_type": "stream",
     "text": [
      "[Parallel(n_jobs=12)]: Done   6 out of   9 | elapsed:  5.1min remaining:  2.5min\n"
     ]
    },
    {
     "name": "stdout",
     "output_type": "stream",
     "text": [
      "[CV] ......... vect__max_features=30000, score=0.606378, total= 4.0min\n"
     ]
    },
    {
     "name": "stderr",
     "output_type": "stream",
     "text": [
      "[Parallel(n_jobs=12)]: Done   7 out of   9 | elapsed:  5.1min remaining:  1.5min\n"
     ]
    },
    {
     "name": "stdout",
     "output_type": "stream",
     "text": [
      "[CV] ......... vect__max_features=60000, score=0.602229, total= 4.1min\n",
      "[CV] ......... vect__max_features=30000, score=0.600772, total= 4.5min\n"
     ]
    },
    {
     "name": "stderr",
     "output_type": "stream",
     "text": [
      "[Parallel(n_jobs=12)]: Done   9 out of   9 | elapsed:  5.6min remaining:    0.0s\n",
      "[Parallel(n_jobs=12)]: Done   9 out of   9 | elapsed:  5.6min finished\n"
     ]
    },
    {
     "name": "stdout",
     "output_type": "stream",
     "text": [
      "CPU times: user 4min 35s, sys: 9.38 s, total: 4min 44s\n",
      "Wall time: 10min 19s\n"
     ]
    },
    {
     "data": {
      "text/plain": [
       "GridSearchCV(cv=None, error_score='raise',\n",
       "       estimator=Pipeline(steps=[('vect', TfidfVectorizer(analyzer='word', binary=False, decode_error='strict',\n",
       "        dtype=<class 'numpy.int64'>, encoding='utf-8', input='content',\n",
       "        lowercase=True, max_df=1.0, max_features=None, min_df=5,\n",
       "        ngram_range=(1, 3), norm='l2', preprocessor=None, smooth_idf=True,\n",
       "  ...lty='l1', random_state=None, solver='liblinear', tol=0.0001,\n",
       "          verbose=0, warm_start=True))]),\n",
       "       fit_params={}, iid=True, n_jobs=12,\n",
       "       param_grid={'vect__max_features': [15000, 30000, 60000]},\n",
       "       pre_dispatch='2*n_jobs', refit=True, return_train_score=True,\n",
       "       scoring='accuracy', verbose=10)"
      ]
     },
     "execution_count": 32,
     "metadata": {},
     "output_type": "execute_result"
    }
   ],
   "source": [
    "%time gs_clf.fit(train_data, train_label)"
   ]
  },
  {
   "cell_type": "code",
   "execution_count": 33,
   "metadata": {
    "collapsed": false
   },
   "outputs": [
    {
     "name": "stdout",
     "output_type": "stream",
     "text": [
      "Best score: 0.603497035419 \n",
      "Parameters: {'vect__max_features': 30000}\n"
     ]
    }
   ],
   "source": [
    "print(\"Best score: %s \\nParameters: %s\" % (gs_clf.best_score_, gs_clf.best_params_))"
   ]
  },
  {
   "cell_type": "markdown",
   "metadata": {
    "collapsed": true
   },
   "source": [
    "**All text**"
   ]
  },
  {
   "cell_type": "code",
   "execution_count": 34,
   "metadata": {
    "collapsed": false
   },
   "outputs": [
    {
     "name": "stdout",
     "output_type": "stream",
     "text": [
      "CPU times: user 4min 4s, sys: 5.49 s, total: 4min 9s\n",
      "Wall time: 4min 9s\n"
     ]
    },
    {
     "data": {
      "text/plain": [
       "TfidfVectorizer(analyzer='word', binary=False, decode_error='strict',\n",
       "        dtype=<class 'numpy.int64'>, encoding='utf-8', input='content',\n",
       "        lowercase=True, max_df=1.0, max_features=30000, min_df=5,\n",
       "        ngram_range=(1, 3), norm='l2', preprocessor=None, smooth_idf=True,\n",
       "        stop_words=None, strip_accents=None, sublinear_tf=False,\n",
       "        token_pattern='\\\\w{1,}', tokenizer=None, use_idf=True,\n",
       "        vocabulary=None)"
      ]
     },
     "execution_count": 34,
     "metadata": {},
     "output_type": "execute_result"
    }
   ],
   "source": [
    "tfidf = TfidfVectorizer(min_df=5, ngram_range=(1,3), token_pattern=r'\\w{1,}', max_features=30000)\n",
    "%time tfidf.fit(train_data + test_data)"
   ]
  },
  {
   "cell_type": "markdown",
   "metadata": {},
   "source": [
    "Transformation"
   ]
  },
  {
   "cell_type": "code",
   "execution_count": 35,
   "metadata": {
    "collapsed": false
   },
   "outputs": [
    {
     "name": "stdout",
     "output_type": "stream",
     "text": [
      "CPU times: user 1min 54s, sys: 723 ms, total: 1min 55s\n",
      "Wall time: 1min 55s\n"
     ]
    }
   ],
   "source": [
    "%%time\n",
    "\n",
    "X_train = tfidf.transform(train_data)\n",
    "X_test = tfidf.transform(test_data)"
   ]
  },
  {
   "cell_type": "code",
   "execution_count": 36,
   "metadata": {
    "collapsed": false
   },
   "outputs": [
    {
     "name": "stdout",
     "output_type": "stream",
     "text": [
      "Mean score: 0.603584836901 \n",
      "Std: 0.00226279594289\n"
     ]
    }
   ],
   "source": [
    "scores = cross_val_score(clf, X_train, train_label, cv=3, scoring='accuracy', n_jobs=10)\n",
    "print(\"Mean score: %s \\nStd: %s\" % (np.mean(scores), np.std(scores)))"
   ]
  },
  {
   "cell_type": "markdown",
   "metadata": {},
   "source": [
    "**Pickling**"
   ]
  },
  {
   "cell_type": "code",
   "execution_count": 37,
   "metadata": {
    "collapsed": false
   },
   "outputs": [],
   "source": [
    "######### Saving ##############\n",
    "\n",
    "pickling_data('X_train_tfidf', X_train)\n",
    "pickling_data('X_test_tfidf', X_test)"
   ]
  },
  {
   "cell_type": "code",
   "execution_count": null,
   "metadata": {
    "collapsed": true
   },
   "outputs": [],
   "source": [
    "######### Loading #############\n",
    "\n",
    "# X_train_tfidf = load_data('X_train_tfidf')\n",
    "# X_test_tfidf = load_data('X_test_tfidf')"
   ]
  },
  {
   "cell_type": "markdown",
   "metadata": {
    "collapsed": true
   },
   "source": [
    "**Confusion matrix**"
   ]
  },
  {
   "cell_type": "code",
   "execution_count": 38,
   "metadata": {
    "collapsed": false
   },
   "outputs": [
    {
     "data": {
      "image/png": "[encoded data removed]",
      "text/plain": [
       "<matplotlib.figure.Figure at 0x7f4d9a272208>"
      ]
     },
     "metadata": {},
     "output_type": "display_data"
    }
   ],
   "source": [
    "cm_show(clf, X_train, train_label, title='TF-IDF with stopwords')"
   ]
  },
  {
   "cell_type": "markdown",
   "metadata": {},
   "source": [
    "## TF-IDF + N-grams + Lemmatization"
   ]
  },
  {
   "cell_type": "code",
   "execution_count": 48,
   "metadata": {
    "collapsed": false
   },
   "outputs": [],
   "source": [
    "def lemmatization_word(word):\n",
    "    pos = ['a','v','n','r']\n",
    "    lemmatizer = WordNetLemmatizer()\n",
    "    for p in pos:\n",
    "        temp = lemmatizer.lemmatize(word, p)\n",
    "        if temp != word:\n",
    "            return temp\n",
    "    return word  \n",
    "\n",
    "def lemmatization_texts(texts, punc=False, stopword=False):\n",
    "    text_lemma = [[lemmatization_word(word) for word in tokenize_string(review, punc, stopword)] for review in texts]\n",
    "    string_lemma = [' '.join(text) for text in text_lemma]\n",
    "    return string_lemma"
   ]
  },
  {
   "cell_type": "code",
   "execution_count": 49,
   "metadata": {
    "collapsed": false
   },
   "outputs": [
    {
     "name": "stdout",
     "output_type": "stream",
     "text": [
      "CPU times: user 8min 53s, sys: 5.11 s, total: 8min 58s\n",
      "Wall time: 8min 58s\n",
      "i m not really sure what just happen to me i just eat a bunch of flash freeze meat that be white curl and stiff i put it in a bowl and mash it with a napkin put some even le fresh look veggie on it and hand it to an angry mexican who proceed to cook it on something that look like the urinal in sun devil stadium i didn t like prepare my own food for this price i don t like that they know the meat shrink but win t give you a decent size bowl to put enough in it although with a nasty a the meat taste why would you want any more of it i might go back here and just do noodle and sauce the noodle be the only thing that seem safe to eat and the sauce you make your own be the only thing redeem about this place i be definitely miss the wendy s that use to be in this spot\n"
     ]
    }
   ],
   "source": [
    "%time train_lemma = lemmatization_texts(train_data, punc=True)\n",
    "print(train_lemma[1])"
   ]
  },
  {
   "cell_type": "code",
   "execution_count": 50,
   "metadata": {
    "collapsed": false
   },
   "outputs": [
    {
     "name": "stdout",
     "output_type": "stream",
     "text": [
      "CPU times: user 2min 55s, sys: 1.86 s, total: 2min 57s\n",
      "Wall time: 2min 57s\n"
     ]
    }
   ],
   "source": [
    "%time test_lemma = lemmatization_texts(test_data, punc=True)"
   ]
  },
  {
   "cell_type": "code",
   "execution_count": 51,
   "metadata": {
    "collapsed": true
   },
   "outputs": [
    {
     "name": "stdout",
     "output_type": "stream",
     "text": [
      "Fitting 3 folds for each of 3 candidates, totalling 9 fits\n",
      "[CV] vect__max_features=15000 ........................................\n",
      "[CV] vect__max_features=15000 ........................................\n",
      "[CV] vect__max_features=15000 ........................................\n",
      "[CV] vect__max_features=30000 ........................................\n",
      "[CV] vect__max_features=30000 ........................................\n",
      "[CV] vect__max_features=30000 ........................................\n",
      "[CV] vect__max_features=60000 ........................................\n",
      "[CV] vect__max_features=60000 ........................................\n",
      "[CV] vect__max_features=60000 ........................................\n",
      "[CV] ......... vect__max_features=15000, score=0.595904, total= 3.8min\n",
      "[CV] ......... vect__max_features=30000, score=0.598537, total= 3.7min\n"
     ]
    },
    {
     "name": "stderr",
     "output_type": "stream",
     "text": [
      "[Parallel(n_jobs=12)]: Done   2 out of   9 | elapsed:  5.1min remaining: 17.9min\n"
     ]
    },
    {
     "name": "stdout",
     "output_type": "stream",
     "text": [
      "[CV] ......... vect__max_features=30000, score=0.592434, total= 4.2min\n"
     ]
    },
    {
     "name": "stderr",
     "output_type": "stream",
     "text": [
      "[Parallel(n_jobs=12)]: Done   3 out of   9 | elapsed:  6.0min remaining: 12.0min\n"
     ]
    },
    {
     "name": "stdout",
     "output_type": "stream",
     "text": [
      "[CV] ......... vect__max_features=30000, score=0.596057, total= 5.3min\n"
     ]
    },
    {
     "name": "stderr",
     "output_type": "stream",
     "text": [
      "[Parallel(n_jobs=12)]: Done   4 out of   9 | elapsed:  6.3min remaining:  7.9min\n"
     ]
    },
    {
     "name": "stdout",
     "output_type": "stream",
     "text": [
      "[CV] ......... vect__max_features=60000, score=0.597484, total= 5.2min\n"
     ]
    },
    {
     "name": "stderr",
     "output_type": "stream",
     "text": [
      "[Parallel(n_jobs=12)]: Done   5 out of   9 | elapsed:  6.3min remaining:  5.1min\n"
     ]
    },
    {
     "name": "stdout",
     "output_type": "stream",
     "text": [
      "[CV] ......... vect__max_features=15000, score=0.596378, total= 5.5min\n"
     ]
    },
    {
     "name": "stderr",
     "output_type": "stream",
     "text": [
      "[Parallel(n_jobs=12)]: Done   6 out of   9 | elapsed:  6.5min remaining:  3.3min\n"
     ]
    },
    {
     "name": "stdout",
     "output_type": "stream",
     "text": [
      "[CV] ......... vect__max_features=15000, score=0.593488, total= 5.5min\n"
     ]
    },
    {
     "name": "stderr",
     "output_type": "stream",
     "text": [
      "[Parallel(n_jobs=12)]: Done   7 out of   9 | elapsed:  6.6min remaining:  1.9min\n"
     ]
    },
    {
     "name": "stdout",
     "output_type": "stream",
     "text": [
      "[CV] ......... vect__max_features=60000, score=0.594886, total= 5.6min\n",
      "[CV] ......... vect__max_features=60000, score=0.591352, total= 6.0min\n"
     ]
    },
    {
     "name": "stderr",
     "output_type": "stream",
     "text": [
      "[Parallel(n_jobs=12)]: Done   9 out of   9 | elapsed:  7.0min remaining:    0.0s\n",
      "[Parallel(n_jobs=12)]: Done   9 out of   9 | elapsed:  7.0min finished\n"
     ]
    },
    {
     "name": "stdout",
     "output_type": "stream",
     "text": [
      "CPU times: user 4min 22s, sys: 8.75 s, total: 4min 31s\n",
      "Wall time: 11min 32s\n"
     ]
    },
    {
     "data": {
      "text/plain": [
       "GridSearchCV(cv=None, error_score='raise',\n",
       "       estimator=Pipeline(steps=[('vect', TfidfVectorizer(analyzer='word', binary=False, decode_error='strict',\n",
       "        dtype=<class 'numpy.int64'>, encoding='utf-8', input='content',\n",
       "        lowercase=True, max_df=1.0, max_features=None, min_df=5,\n",
       "        ngram_range=(1, 3), norm='l2', preprocessor=None, smooth_idf=True,\n",
       "  ...lty='l1', random_state=None, solver='liblinear', tol=0.0001,\n",
       "          verbose=0, warm_start=True))]),\n",
       "       fit_params={}, iid=True, n_jobs=12,\n",
       "       param_grid={'vect__max_features': [15000, 30000, 60000]},\n",
       "       pre_dispatch='2*n_jobs', refit=True, return_train_score=True,\n",
       "       scoring='accuracy', verbose=10)"
      ]
     },
     "execution_count": 51,
     "metadata": {},
     "output_type": "execute_result"
    }
   ],
   "source": [
    "%time gs_clf.fit(train_lemma, train_label)"
   ]
  },
  {
   "cell_type": "code",
   "execution_count": 53,
   "metadata": {
    "collapsed": false
   },
   "outputs": [
    {
     "name": "stdout",
     "output_type": "stream",
     "text": [
      "Best score: 0.595676002496 \n",
      "Parameters: {'vect__max_features': 30000}\n"
     ]
    }
   ],
   "source": [
    "print(\"Best score: %s \\nParameters: %s\" % (gs_clf.best_score_, gs_clf.best_params_))"
   ]
  },
  {
   "cell_type": "markdown",
   "metadata": {
    "collapsed": true
   },
   "source": [
    "**All text**"
   ]
  },
  {
   "cell_type": "code",
   "execution_count": 54,
   "metadata": {
    "collapsed": false
   },
   "outputs": [
    {
     "name": "stdout",
     "output_type": "stream",
     "text": [
      "CPU times: user 3min 51s, sys: 5.16 s, total: 3min 56s\n",
      "Wall time: 3min 56s\n"
     ]
    },
    {
     "data": {
      "text/plain": [
       "TfidfVectorizer(analyzer='word', binary=False, decode_error='strict',\n",
       "        dtype=<class 'numpy.int64'>, encoding='utf-8', input='content',\n",
       "        lowercase=True, max_df=1.0, max_features=30000, min_df=5,\n",
       "        ngram_range=(1, 3), norm='l2', preprocessor=None, smooth_idf=True,\n",
       "        stop_words=None, strip_accents=None, sublinear_tf=False,\n",
       "        token_pattern='\\\\w{1,}', tokenizer=None, use_idf=True,\n",
       "        vocabulary=None)"
      ]
     },
     "execution_count": 54,
     "metadata": {},
     "output_type": "execute_result"
    }
   ],
   "source": [
    "tfidf = TfidfVectorizer(min_df=5, ngram_range=(1,3), token_pattern=r'\\w{1,}', max_features=30000)\n",
    "%time tfidf.fit(train_lemma + test_lemma)"
   ]
  },
  {
   "cell_type": "code",
   "execution_count": 55,
   "metadata": {
    "collapsed": false
   },
   "outputs": [
    {
     "name": "stdout",
     "output_type": "stream",
     "text": [
      "CPU times: user 1min 26s, sys: 675 ms, total: 1min 27s\n",
      "Wall time: 1min 27s\n"
     ]
    }
   ],
   "source": [
    "%time X_train = tfidf.transform(train_lemma)\n",
    "#%time X_test = tfidf.transform(test_lemma)"
   ]
  },
  {
   "cell_type": "code",
   "execution_count": 56,
   "metadata": {
    "collapsed": false
   },
   "outputs": [
    {
     "name": "stdout",
     "output_type": "stream",
     "text": [
      "Mean score: 0.595773555309 \n",
      "Std: 0.00227271866777\n"
     ]
    }
   ],
   "source": [
    "scores = cross_val_score(clf, X_train, train_label, cv=3, scoring='accuracy', n_jobs=10)\n",
    "print(\"Mean score: %s \\nStd: %s\" % (np.mean(scores), np.std(scores)))"
   ]
  },
  {
   "cell_type": "markdown",
   "metadata": {},
   "source": [
    "**Confusion matrix**"
   ]
  },
  {
   "cell_type": "code",
   "execution_count": 57,
   "metadata": {
    "collapsed": false
   },
   "outputs": [
    {
     "data": {
      "image/png": "[encoded data removed]",
      "text/plain": [
       "<matplotlib.figure.Figure at 0x7f4cd1756c50>"
      ]
     },
     "metadata": {},
     "output_type": "display_data"
    }
   ],
   "source": [
    "cm_show(clf, X_train, train_label, title='TF-IDF with lemmatization')"
   ]
  },
  {
   "cell_type": "code",
   "execution_count": null,
   "metadata": {
    "collapsed": true
   },
   "outputs": [],
   "source": []
  },
  {
   "cell_type": "markdown",
   "metadata": {},
   "source": [
    "## Mark negation\n",
    "For more detials see [nltk.sentiment package](http://www.nltk.org/api/nltk.sentiment.html)"
   ]
  },
  {
   "cell_type": "code",
   "execution_count": 63,
   "metadata": {
    "collapsed": true
   },
   "outputs": [],
   "source": [
    "def mark_negation_texts(texts, lemma=False, stopword=False):\n",
    "    \n",
    "    if stopword:\n",
    "        filtered_text = texts_processing(texts, stopword=stopword) \n",
    "        all_tokens = [text.split() for text in filtered_text]\n",
    "    else:\n",
    "        all_tokens = [text.split() for text in texts_processing(texts)]\n",
    "    \n",
    "    if lemma:\n",
    "        reviews = [[lemmatization_word(word) for word in tokens] for tokens in all_tokens]\n",
    "    else:\n",
    "        reviews = all_tokens\n",
    "    \n",
    "    mark = [' '.join(mark_negation(review)) for review in reviews]\n",
    "    return mark"
   ]
  },
  {
   "cell_type": "code",
   "execution_count": 64,
   "metadata": {
    "collapsed": false
   },
   "outputs": [
    {
     "name": "stdout",
     "output_type": "stream",
     "text": [
      "CPU times: user 6min 42s, sys: 5.09 s, total: 6min 47s\n",
      "Wall time: 6min 47s\n",
      "CPU times: user 2min 13s, sys: 656 ms, total: 2min 13s\n",
      "Wall time: 2min 16s\n",
      "i 'm not really_NEG sure_NEG what_NEG just_NEG happened_NEG to_NEG me_NEG . i just ate a bunch of flash-frozen meat that was white , curled , and stiff . i put it in a bowl and mashed it with a napkin , put some even less fresh looking veggies on it , and handed it to an angry mexican who proceeded to cook it on something that looked like the urinals in sun devil stadium . i did n't like_NEG preparing_NEG my_NEG own_NEG food_NEG for_NEG this_NEG price_NEG ,_NEG i_NEG do_NEG n't_NEG like_NEG that_NEG they_NEG know_NEG the_NEG meat_NEG shrinks_NEG but_NEG wo_NEG n't_NEG give_NEG you_NEG a_NEG decent_NEG sized_NEG bowl_NEG to_NEG put_NEG enough_NEG in_NEG it_NEG -_NEG although_NEG ..._NEG with_NEG as_NEG nasty_NEG as_NEG the_NEG meat_NEG tasted_NEG ,_NEG why_NEG would_NEG you_NEG want_NEG any_NEG more_NEG of_NEG it_NEG ? i might go back here and just do noodles and sauce . the noodles were the only thing that seemed safe to eat and the sauce ( you make your own ) was the only thing redeeming about this place . i was definitely missing the wendy 's that used to be in this spot .\n"
     ]
    }
   ],
   "source": [
    "%time train_neg = mark_negation_texts(train_data)\n",
    "%time test_neg = mark_negation_texts(test_data)\n",
    "print(train_neg[1])"
   ]
  },
  {
   "cell_type": "markdown",
   "metadata": {},
   "source": [
    "**Pipeline**"
   ]
  },
  {
   "cell_type": "code",
   "execution_count": 65,
   "metadata": {
    "collapsed": true
   },
   "outputs": [
    {
     "name": "stdout",
     "output_type": "stream",
     "text": [
      "Fitting 3 folds for each of 3 candidates, totalling 9 fits\n",
      "[CV] vect__max_features=15000 ........................................\n",
      "[CV] vect__max_features=15000 ........................................\n",
      "[CV] vect__max_features=15000 ........................................\n",
      "[CV] vect__max_features=30000 ........................................\n",
      "[CV] vect__max_features=30000 ........................................\n",
      "[CV] vect__max_features=30000 ........................................\n",
      "[CV] vect__max_features=60000 ........................................\n",
      "[CV] vect__max_features=60000 ........................................\n",
      "[CV] vect__max_features=60000 ........................................\n",
      "[CV] ......... vect__max_features=15000, score=0.598315, total= 4.1min\n",
      "[CV] ......... vect__max_features=15000, score=0.600152, total= 4.1min\n"
     ]
    },
    {
     "name": "stderr",
     "output_type": "stream",
     "text": [
      "[Parallel(n_jobs=12)]: Done   2 out of   9 | elapsed:  5.2min remaining: 18.2min\n"
     ]
    },
    {
     "name": "stdout",
     "output_type": "stream",
     "text": [
      "[CV] ......... vect__max_features=30000, score=0.600012, total= 4.1min\n"
     ]
    },
    {
     "name": "stderr",
     "output_type": "stream",
     "text": [
      "[Parallel(n_jobs=12)]: Done   3 out of   9 | elapsed:  5.2min remaining: 10.4min\n"
     ]
    },
    {
     "name": "stdout",
     "output_type": "stream",
     "text": [
      "[CV] ......... vect__max_features=30000, score=0.605471, total= 4.2min\n"
     ]
    },
    {
     "name": "stderr",
     "output_type": "stream",
     "text": [
      "[Parallel(n_jobs=12)]: Done   4 out of   9 | elapsed:  5.3min remaining:  6.6min\n"
     ]
    },
    {
     "name": "stdout",
     "output_type": "stream",
     "text": [
      "[CV] ......... vect__max_features=15000, score=0.604593, total= 4.3min\n"
     ]
    },
    {
     "name": "stderr",
     "output_type": "stream",
     "text": [
      "[Parallel(n_jobs=12)]: Done   5 out of   9 | elapsed:  5.3min remaining:  4.3min\n"
     ]
    },
    {
     "name": "stdout",
     "output_type": "stream",
     "text": [
      "[CV] ......... vect__max_features=60000, score=0.606261, total= 4.2min\n"
     ]
    },
    {
     "name": "stderr",
     "output_type": "stream",
     "text": [
      "[Parallel(n_jobs=12)]: Done   6 out of   9 | elapsed:  5.4min remaining:  2.7min\n"
     ]
    },
    {
     "name": "stdout",
     "output_type": "stream",
     "text": [
      "[CV] ......... vect__max_features=60000, score=0.599076, total= 4.2min\n"
     ]
    },
    {
     "name": "stderr",
     "output_type": "stream",
     "text": [
      "[Parallel(n_jobs=12)]: Done   7 out of   9 | elapsed:  5.4min remaining:  1.5min\n"
     ]
    },
    {
     "name": "stdout",
     "output_type": "stream",
     "text": [
      "[CV] ......... vect__max_features=60000, score=0.601703, total= 4.2min\n",
      "[CV] ......... vect__max_features=30000, score=0.601118, total= 4.4min\n"
     ]
    },
    {
     "name": "stderr",
     "output_type": "stream",
     "text": [
      "[Parallel(n_jobs=12)]: Done   9 out of   9 | elapsed:  5.5min remaining:    0.0s\n",
      "[Parallel(n_jobs=12)]: Done   9 out of   9 | elapsed:  5.5min finished\n"
     ]
    },
    {
     "name": "stdout",
     "output_type": "stream",
     "text": [
      "CPU times: user 4min 46s, sys: 12.2 s, total: 4min 58s\n",
      "Wall time: 10min 23s\n"
     ]
    },
    {
     "data": {
      "text/plain": [
       "GridSearchCV(cv=None, error_score='raise',\n",
       "       estimator=Pipeline(steps=[('vect', TfidfVectorizer(analyzer='word', binary=False, decode_error='strict',\n",
       "        dtype=<class 'numpy.int64'>, encoding='utf-8', input='content',\n",
       "        lowercase=True, max_df=1.0, max_features=None, min_df=5,\n",
       "        ngram_range=(1, 3), norm='l2', preprocessor=None, smooth_idf=True,\n",
       "  ...lty='l1', random_state=None, solver='liblinear', tol=0.0001,\n",
       "          verbose=0, warm_start=True))]),\n",
       "       fit_params={}, iid=True, n_jobs=12,\n",
       "       param_grid={'vect__max_features': [15000, 30000, 60000]},\n",
       "       pre_dispatch='2*n_jobs', refit=True, return_train_score=True,\n",
       "       scoring='accuracy', verbose=10)"
      ]
     },
     "execution_count": 65,
     "metadata": {},
     "output_type": "execute_result"
    }
   ],
   "source": [
    "%time gs_clf.fit(train_neg, train_label)"
   ]
  },
  {
   "cell_type": "code",
   "execution_count": 66,
   "metadata": {
    "collapsed": false
   },
   "outputs": [
    {
     "name": "stdout",
     "output_type": "stream",
     "text": [
      "Best score: 0.602346309877 \n",
      "Parameters: {'vect__max_features': 60000}\n"
     ]
    }
   ],
   "source": [
    "print(\"Best score: %s \\nParameters: %s\" % (gs_clf.best_score_, gs_clf.best_params_))"
   ]
  },
  {
   "cell_type": "markdown",
   "metadata": {
    "collapsed": true
   },
   "source": [
    "**All text**"
   ]
  },
  {
   "cell_type": "code",
   "execution_count": 71,
   "metadata": {
    "collapsed": false
   },
   "outputs": [
    {
     "name": "stdout",
     "output_type": "stream",
     "text": [
      "CPU times: user 4min 28s, sys: 7.14 s, total: 4min 35s\n",
      "Wall time: 4min 35s\n"
     ]
    },
    {
     "data": {
      "text/plain": [
       "TfidfVectorizer(analyzer='word', binary=False, decode_error='strict',\n",
       "        dtype=<class 'numpy.int64'>, encoding='utf-8', input='content',\n",
       "        lowercase=True, max_df=1.0, max_features=30000, min_df=5,\n",
       "        ngram_range=(1, 3), norm='l2', preprocessor=None, smooth_idf=True,\n",
       "        stop_words=None, strip_accents=None, sublinear_tf=False,\n",
       "        token_pattern='\\\\w{1,}', tokenizer=None, use_idf=True,\n",
       "        vocabulary=None)"
      ]
     },
     "execution_count": 71,
     "metadata": {},
     "output_type": "execute_result"
    }
   ],
   "source": [
    "tfidf = TfidfVectorizer(min_df=5, ngram_range=(1,3), token_pattern=r'\\w{1,}', max_features=30000)\n",
    "%time tfidf.fit(train_neg + test_neg)"
   ]
  },
  {
   "cell_type": "code",
   "execution_count": 72,
   "metadata": {
    "collapsed": false
   },
   "outputs": [
    {
     "name": "stdout",
     "output_type": "stream",
     "text": [
      "CPU times: user 1min 33s, sys: 784 ms, total: 1min 34s\n",
      "Wall time: 1min 34s\n",
      "CPU times: user 30.4 s, sys: 195 ms, total: 30.6 s\n",
      "Wall time: 30.6 s\n"
     ]
    }
   ],
   "source": [
    "%time X_train_neg = tfidf.transform(train_neg)\n",
    "%time X_test_neg = tfidf.transform(test_neg)"
   ]
  },
  {
   "cell_type": "code",
   "execution_count": 73,
   "metadata": {
    "collapsed": false
   },
   "outputs": [
    {
     "name": "stdout",
     "output_type": "stream",
     "text": [
      "Mean score: 0.595783305319 \n",
      "Std: 0.00221048155807\n"
     ]
    }
   ],
   "source": [
    "scores = cross_val_score(clf, X_train, train_label, cv=3, scoring='accuracy', n_jobs=10)\n",
    "print(\"Mean score: %s \\nStd: %s\" % (np.mean(scores), np.std(scores)))"
   ]
  },
  {
   "cell_type": "markdown",
   "metadata": {},
   "source": [
    "**Confusion matrix**"
   ]
  },
  {
   "cell_type": "code",
   "execution_count": 74,
   "metadata": {
    "collapsed": false
   },
   "outputs": [
    {
     "data": {
      "image/png": "[encoded data removed]",
      "text/plain": [
       "<matplotlib.figure.Figure at 0x7f4b48183d30>"
      ]
     },
     "metadata": {},
     "output_type": "display_data"
    }
   ],
   "source": [
    "cm_show(clf, X_train, train_label, title='Mark negation')"
   ]
  },
  {
   "cell_type": "code",
   "execution_count": null,
   "metadata": {
    "collapsed": true
   },
   "outputs": [],
   "source": []
  },
  {
   "cell_type": "markdown",
   "metadata": {},
   "source": [
    "## TF-IDF + N-chars\n",
    "Now let's try to set features using character-based approach. Perhaps it will turn out to catch a syntactic relation words.\n",
    "### With Stopwords and Punctuation"
   ]
  },
  {
   "cell_type": "code",
   "execution_count": 75,
   "metadata": {
    "collapsed": false
   },
   "outputs": [
    {
     "name": "stdout",
     "output_type": "stream",
     "text": [
      "CPU times: user 10min 21s, sys: 9.91 s, total: 10min 31s\n",
      "Wall time: 10min 34s\n"
     ]
    },
    {
     "data": {
      "text/plain": [
       "TfidfVectorizer(analyzer='char', binary=False, decode_error='strict',\n",
       "        dtype=<class 'numpy.int64'>, encoding='utf-8', input='content',\n",
       "        lowercase=True, max_df=1.0, max_features=50000, min_df=1,\n",
       "        ngram_range=(2, 5), norm='l2', preprocessor=None, smooth_idf=True,\n",
       "        stop_words=None, strip_accents=None, sublinear_tf=False,\n",
       "        token_pattern='(?u)\\\\b\\\\w\\\\w+\\\\b', tokenizer=None, use_idf=True,\n",
       "        vocabulary=None)"
      ]
     },
     "execution_count": 75,
     "metadata": {},
     "output_type": "execute_result"
    }
   ],
   "source": [
    "tfidf_char = TfidfVectorizer(analyzer='char', ngram_range=(2,5), max_features=50000)\n",
    "%time tfidf_char.fit(train_data + test_data)"
   ]
  },
  {
   "cell_type": "code",
   "execution_count": 76,
   "metadata": {
    "collapsed": false
   },
   "outputs": [
    {
     "name": "stdout",
     "output_type": "stream",
     "text": [
      "CPU times: user 7min 26s, sys: 4.67 s, total: 7min 31s\n",
      "Wall time: 7min 31s\n"
     ]
    }
   ],
   "source": [
    "%time X_train_char = tfidf_char.transform(train_data)"
   ]
  },
  {
   "cell_type": "code",
   "execution_count": 77,
   "metadata": {
    "collapsed": false
   },
   "outputs": [
    {
     "name": "stdout",
     "output_type": "stream",
     "text": [
      "CPU times: user 2min 26s, sys: 1.48 s, total: 2min 27s\n",
      "Wall time: 2min 27s\n"
     ]
    }
   ],
   "source": [
    "%time X_test_char = tfidf_char.transform(test_data)"
   ]
  },
  {
   "cell_type": "code",
   "execution_count": 78,
   "metadata": {
    "collapsed": false
   },
   "outputs": [
    {
     "name": "stdout",
     "output_type": "stream",
     "text": [
      "[CV]  ................................................................\n",
      "[CV]  ................................................................\n",
      "[CV]  ................................................................\n",
      "[CV] ................................. , score=0.584126, total= 3.8min\n",
      "[CV] ................................. , score=0.583623, total= 4.0min\n",
      "[CV] ................................. , score=0.586922, total= 4.0min\n"
     ]
    },
    {
     "name": "stderr",
     "output_type": "stream",
     "text": [
      "[Parallel(n_jobs=12)]: Done   3 out of   3 | elapsed:  4.4min remaining:    0.0s\n",
      "[Parallel(n_jobs=12)]: Done   3 out of   3 | elapsed:  4.4min finished\n"
     ]
    },
    {
     "name": "stdout",
     "output_type": "stream",
     "text": [
      "Mean score: 0.585 \n",
      "Standart deviation: 0.001\n"
     ]
    }
   ],
   "source": [
    "scores = cross_val_score(clf, X_train_char, train_label, cv=3, scoring='accuracy', n_jobs=12, verbose=10)\n",
    "print(\"Mean score: %.3f \\nStandart deviation: %.3f\" %(np.mean(scores), np.std(scores)))"
   ]
  },
  {
   "cell_type": "code",
   "execution_count": 79,
   "metadata": {
    "collapsed": true
   },
   "outputs": [],
   "source": [
    "#import operator\n",
    "#sorted_x = sorted(tfidf_char.vocabulary_.items(), key=operator.itemgetter(1))"
   ]
  },
  {
   "cell_type": "markdown",
   "metadata": {},
   "source": [
    "**Pickling**"
   ]
  },
  {
   "cell_type": "code",
   "execution_count": 80,
   "metadata": {
    "collapsed": true
   },
   "outputs": [],
   "source": [
    "######### Saving ##############\n",
    "\n",
    "pickling_data('X_train_char', X_train_char)\n",
    "pickling_data('X_test_char', X_test_char)"
   ]
  },
  {
   "cell_type": "code",
   "execution_count": null,
   "metadata": {
    "collapsed": true
   },
   "outputs": [],
   "source": [
    "######### Loading #############\n",
    "\n",
    "# X_train_char = load_data('X_train_char')\n",
    "# X_test_char = load_data('X_test_char')"
   ]
  },
  {
   "cell_type": "markdown",
   "metadata": {
    "collapsed": true
   },
   "source": [
    "**Confusion matrix**"
   ]
  },
  {
   "cell_type": "code",
   "execution_count": 82,
   "metadata": {
    "collapsed": false
   },
   "outputs": [
    {
     "data": {
      "image/png": "[encoded data removed]",
      "text/plain": [
       "<matplotlib.figure.Figure at 0x7f4e5e238588>"
      ]
     },
     "metadata": {},
     "output_type": "display_data"
    }
   ],
   "source": [
    "cm_show(clf, X_train_char, train_label, title='TF-IDF n-char')"
   ]
  },
  {
   "cell_type": "code",
   "execution_count": null,
   "metadata": {
    "collapsed": true
   },
   "outputs": [],
   "source": []
  },
  {
   "cell_type": "markdown",
   "metadata": {
    "collapsed": true
   },
   "source": [
    "## N-grams + N-chars\n",
    "Concatenating matrix obtained when using different approaches"
   ]
  },
  {
   "cell_type": "code",
   "execution_count": 11,
   "metadata": {
    "collapsed": true
   },
   "outputs": [],
   "source": [
    "######### Loading #############\n",
    "\n",
    "X_train_tfidf = load_data('X_train_tfidf')\n",
    "X_test_tfidf = load_data('X_test_tfidf')\n",
    "X_train_char = load_data('X_train_char')\n",
    "X_test_char = load_data('X_test_char')"
   ]
  },
  {
   "cell_type": "code",
   "execution_count": 12,
   "metadata": {
    "collapsed": false
   },
   "outputs": [
    {
     "name": "stdout",
     "output_type": "stream",
     "text": [
      "CPU times: user 8.12 s, sys: 3.71 s, total: 11.8 s\n",
      "Wall time: 11.8 s\n"
     ]
    }
   ],
   "source": [
    "%%time\n",
    "\n",
    "X_TRAIN = sparse.hstack([X_train_tfidf, X_train_char])\n",
    "X_TEST = sparse.hstack([X_test_tfidf, X_test_char])"
   ]
  },
  {
   "cell_type": "code",
   "execution_count": 12,
   "metadata": {
    "collapsed": false
   },
   "outputs": [
    {
     "name": "stdout",
     "output_type": "stream",
     "text": [
      "[CV]  ................................................................\n",
      "[CV]  ................................................................\n",
      "[CV]  ................................................................\n",
      "[CV] ................................. , score=0.605944, total= 3.8min\n",
      "[CV] ................................. , score=0.607753, total= 3.6min\n",
      "[CV] ................................. , score=0.603815, total= 4.3min\n"
     ]
    },
    {
     "name": "stderr",
     "output_type": "stream",
     "text": [
      "[Parallel(n_jobs=12)]: Done   3 out of   3 | elapsed:  4.5min remaining:    0.0s\n",
      "[Parallel(n_jobs=12)]: Done   3 out of   3 | elapsed:  4.5min finished\n"
     ]
    },
    {
     "name": "stdout",
     "output_type": "stream",
     "text": [
      "Mean score: 0.606 \n",
      "Standart deviation: 0.002\n"
     ]
    }
   ],
   "source": [
    "scores = cross_val_score(clf, X_TRAIN, train_label, cv=3, scoring='accuracy', n_jobs=12, verbose=10)\n",
    "print(\"Mean score: %.3f \\nStandart deviation: %.3f\" %(np.mean(scores), np.std(scores)))"
   ]
  },
  {
   "cell_type": "code",
   "execution_count": 13,
   "metadata": {
    "collapsed": false
   },
   "outputs": [
    {
     "data": {
      "image/png": "[encoded data removed]",
      "text/plain": [
       "<matplotlib.figure.Figure at 0x7f4ffb69ec88>"
      ]
     },
     "metadata": {},
     "output_type": "display_data"
    }
   ],
   "source": [
    "cm_show(clf, X_TRAIN, train_label, title='N-char + N-char')"
   ]
  },
  {
   "cell_type": "markdown",
   "metadata": {},
   "source": [
    "### Multinomial Naïve Bayes"
   ]
  },
  {
   "cell_type": "code",
   "execution_count": 13,
   "metadata": {
    "collapsed": true
   },
   "outputs": [],
   "source": [
    "nb = MultinomialNB()\n",
    "param_grid = {'alpha':[0, 1],\n",
    "              'fit_prior': [True, False]}\n",
    "\n",
    "gs = GridSearchCV(nb, param_grid, scoring='accuracy', n_jobs=12, cv=5, verbose=10)"
   ]
  },
  {
   "cell_type": "code",
   "execution_count": 14,
   "metadata": {
    "collapsed": true
   },
   "outputs": [
    {
     "name": "stdout",
     "output_type": "stream",
     "text": [
      "Fitting 5 folds for each of 4 candidates, totalling 20 fits\n",
      "[CV] fit_prior=True, alpha=0 .........................................\n",
      "[CV] fit_prior=True, alpha=0 .........................................\n",
      "[CV] fit_prior=True, alpha=0 .........................................\n",
      "[CV] .......... fit_prior=True, alpha=0, score=0.560772, total=  11.9s\n",
      "[CV] fit_prior=True, alpha=0 .........................................\n",
      "[CV] .......... fit_prior=True, alpha=0, score=0.560919, total=  11.7s\n",
      "[CV] fit_prior=True, alpha=0 .........................................\n",
      "[CV] .......... fit_prior=True, alpha=0, score=0.562854, total=  11.8s\n"
     ]
    },
    {
     "name": "stderr",
     "output_type": "stream",
     "text": [
      "[Parallel(n_jobs=12)]: Done   3 out of  20 | elapsed:   35.0s remaining:  3.3min\n"
     ]
    },
    {
     "name": "stdout",
     "output_type": "stream",
     "text": [
      "[CV] fit_prior=False, alpha=0 ........................................\n",
      "[CV] .......... fit_prior=True, alpha=0, score=0.565319, total=  11.4s\n",
      "[CV] fit_prior=False, alpha=0 ........................................\n",
      "[CV] .......... fit_prior=True, alpha=0, score=0.565124, total=  12.0s\n",
      "[CV] fit_prior=False, alpha=0 ........................................\n",
      "[CV] ......... fit_prior=False, alpha=0, score=0.548974, total=  12.0s\n"
     ]
    },
    {
     "name": "stderr",
     "output_type": "stream",
     "text": [
      "[Parallel(n_jobs=12)]: Done   6 out of  20 | elapsed:   54.1s remaining:  2.1min\n"
     ]
    },
    {
     "name": "stdout",
     "output_type": "stream",
     "text": [
      "[CV] fit_prior=False, alpha=0 ........................................\n",
      "[CV] ......... fit_prior=False, alpha=0, score=0.547072, total=  11.9s\n",
      "[CV] fit_prior=False, alpha=0 ........................................\n",
      "[CV] ......... fit_prior=False, alpha=0, score=0.546372, total=  11.9s\n",
      "[CV] fit_prior=True, alpha=1 .........................................\n",
      "[CV] ......... fit_prior=False, alpha=0, score=0.552397, total=  11.7s\n"
     ]
    },
    {
     "name": "stderr",
     "output_type": "stream",
     "text": [
      "[Parallel(n_jobs=12)]: Done   9 out of  20 | elapsed:  1.2min remaining:  1.5min\n"
     ]
    },
    {
     "name": "stdout",
     "output_type": "stream",
     "text": [
      "[CV] fit_prior=True, alpha=1 .........................................\n",
      "[CV] ......... fit_prior=False, alpha=0, score=0.548837, total=  12.4s\n",
      "[CV] fit_prior=True, alpha=1 .........................................\n",
      "[CV] .......... fit_prior=True, alpha=1, score=0.558042, total=  12.0s\n",
      "[CV] fit_prior=True, alpha=1 .........................................\n",
      "[CV] .......... fit_prior=True, alpha=1, score=0.555702, total=  11.8s\n"
     ]
    },
    {
     "name": "stderr",
     "output_type": "stream",
     "text": [
      "[Parallel(n_jobs=12)]: Done  12 out of  20 | elapsed:  1.5min remaining:  1.0min\n"
     ]
    },
    {
     "name": "stdout",
     "output_type": "stream",
     "text": [
      "[CV] fit_prior=True, alpha=1 .........................................\n",
      "[CV] .......... fit_prior=True, alpha=1, score=0.558904, total=  11.2s\n",
      "[CV] fit_prior=False, alpha=1 ........................................\n",
      "[CV] .......... fit_prior=True, alpha=1, score=0.562393, total=  11.8s\n",
      "[CV] fit_prior=False, alpha=1 ........................................\n",
      "[CV] .......... fit_prior=True, alpha=1, score=0.562735, total=  11.7s\n"
     ]
    },
    {
     "name": "stderr",
     "output_type": "stream",
     "text": [
      "[Parallel(n_jobs=12)]: Done  15 out of  20 | elapsed:  1.8min remaining:   36.9s\n"
     ]
    },
    {
     "name": "stdout",
     "output_type": "stream",
     "text": [
      "[CV] fit_prior=False, alpha=1 ........................................\n",
      "[CV] ......... fit_prior=False, alpha=1, score=0.551948, total=  11.1s\n",
      "[CV] fit_prior=False, alpha=1 ........................................\n",
      "[CV] ......... fit_prior=False, alpha=1, score=0.550729, total=  11.6s\n",
      "[CV] fit_prior=False, alpha=1 ........................................\n",
      "[CV] ......... fit_prior=False, alpha=1, score=0.551687, total=  11.7s\n"
     ]
    },
    {
     "name": "stderr",
     "output_type": "stream",
     "text": [
      "[Parallel(n_jobs=12)]: Done  18 out of  20 | elapsed:  2.2min remaining:   14.4s\n"
     ]
    },
    {
     "name": "stdout",
     "output_type": "stream",
     "text": [
      "[CV] ......... fit_prior=False, alpha=1, score=0.550641, total=  11.4s\n",
      "[CV] ......... fit_prior=False, alpha=1, score=0.552153, total=  11.1s\n"
     ]
    },
    {
     "name": "stderr",
     "output_type": "stream",
     "text": [
      "[Parallel(n_jobs=12)]: Done  20 out of  20 | elapsed:  2.4min finished\n"
     ]
    },
    {
     "data": {
      "text/plain": [
       "GridSearchCV(cv=5, error_score='raise',\n",
       "       estimator=MultinomialNB(alpha=1.0, class_prior=None, fit_prior=True),\n",
       "       fit_params={}, iid=True, n_jobs=12,\n",
       "       param_grid={'fit_prior': [True, False], 'alpha': [0, 1]},\n",
       "       pre_dispatch='2*n_jobs', refit=True, return_train_score=True,\n",
       "       scoring='accuracy', verbose=10)"
      ]
     },
     "execution_count": 14,
     "metadata": {},
     "output_type": "execute_result"
    }
   ],
   "source": [
    "gs.fit(X_TRAIN, train_label)"
   ]
  },
  {
   "cell_type": "code",
   "execution_count": 15,
   "metadata": {
    "collapsed": false
   },
   "outputs": [],
   "source": [
    "nb = gs.best_estimator_"
   ]
  },
  {
   "cell_type": "code",
   "execution_count": 16,
   "metadata": {
    "collapsed": false
   },
   "outputs": [
    {
     "data": {
      "image/png": "[encoded data removed]",
      "text/plain": [
       "<matplotlib.figure.Figure at 0x7f4e824740f0>"
      ]
     },
     "metadata": {},
     "output_type": "display_data"
    }
   ],
   "source": [
    "cm_show(nb, X_TRAIN, train_label, title='Bayes', classes=['1','2','3','4','5'])"
   ]
  },
  {
   "cell_type": "code",
   "execution_count": null,
   "metadata": {
    "collapsed": true
   },
   "outputs": [],
   "source": []
  },
  {
   "cell_type": "markdown",
   "metadata": {},
   "source": [
    "## Prediction"
   ]
  },
  {
   "cell_type": "code",
   "execution_count": 23,
   "metadata": {
    "collapsed": false
   },
   "outputs": [
    {
     "name": "stdout",
     "output_type": "stream",
     "text": [
      "LogisticRegression(C=1.0, class_weight=None, dual=False, fit_intercept=True,\n",
      "          intercept_scaling=1, max_iter=100, multi_class='ovr', n_jobs=12,\n",
      "          penalty='l1', random_state=None, solver='liblinear', tol=0.0001,\n",
      "          verbose=10, warm_start=False)\n"
     ]
    }
   ],
   "source": [
    "lr = LogisticRegression(n_jobs=12, penalty='l1', verbose=10)\n",
    "print(lr)"
   ]
  },
  {
   "cell_type": "code",
   "execution_count": 24,
   "metadata": {
    "collapsed": false
   },
   "outputs": [
    {
     "name": "stdout",
     "output_type": "stream",
     "text": [
      "[LibLinear]CPU times: user 5min 41s, sys: 10.7 s, total: 5min 52s\n",
      "Wall time: 5min 52s\n"
     ]
    },
    {
     "data": {
      "text/plain": [
       "LogisticRegression(C=1.0, class_weight=None, dual=False, fit_intercept=True,\n",
       "          intercept_scaling=1, max_iter=100, multi_class='ovr', n_jobs=12,\n",
       "          penalty='l1', random_state=None, solver='liblinear', tol=0.0001,\n",
       "          verbose=10, warm_start=False)"
      ]
     },
     "execution_count": 24,
     "metadata": {},
     "output_type": "execute_result"
    }
   ],
   "source": [
    "%time lr.fit(X_TRAIN, train_label)"
   ]
  },
  {
   "cell_type": "code",
   "execution_count": 25,
   "metadata": {
    "collapsed": false
   },
   "outputs": [],
   "source": [
    "y_test = lr.predict(X_TEST)\n",
    "sol = pd.DataFrame(np.array([test_id, y_test]).transpose(), columns=['ID','Sentiment'])\n",
    "sol.to_csv('solution.csv', index=False)"
   ]
  },
  {
   "cell_type": "code",
   "execution_count": 26,
   "metadata": {
    "collapsed": true
   },
   "outputs": [],
   "source": [
    "df = pd.read_csv('solution.csv')"
   ]
  },
  {
   "cell_type": "code",
   "execution_count": 27,
   "metadata": {
    "collapsed": false
   },
   "outputs": [
    {
     "data": {
      "text/plain": [
       "<matplotlib.axes._subplots.AxesSubplot at 0x7f4e3dcc3198>"
      ]
     },
     "execution_count": 27,
     "metadata": {},
     "output_type": "execute_result"
    },
    {
     "data": {
      "image/png": "[encoded data removed]",
      "text/plain": [
       "<matplotlib.figure.Figure at 0x7f4e3df92748>"
      ]
     },
     "metadata": {},
     "output_type": "display_data"
    }
   ],
   "source": [
    "df.Sentiment.value_counts().plot(kind='bar', alpha=0.5)"
   ]
  },
  {
   "cell_type": "code",
   "execution_count": null,
   "metadata": {
    "collapsed": true
   },
   "outputs": [],
   "source": []
  },
  {
   "cell_type": "code",
   "execution_count": null,
   "metadata": {
    "collapsed": true
   },
   "outputs": [],
   "source": []
  }
 ],
 "metadata": {
  "anaconda-cloud": {},
  "kernelspec": {
   "display_name": "Python [conda env:python3]",
   "language": "python",
   "name": "conda-env-python3-py"
  },
  "language_info": {
   "codemirror_mode": {
    "name": "ipython",
    "version": 3
   },
   "file_extension": ".py",
   "mimetype": "text/x-python",
   "name": "python",
   "nbconvert_exporter": "python",
   "pygments_lexer": "ipython3",
   "version": "3.5.2"
  }
 },
 "nbformat": 4,
 "nbformat_minor": 2
}
